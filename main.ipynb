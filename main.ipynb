{
  "nbformat": 4,
  "nbformat_minor": 0,
  "metadata": {
    "orig_nbformat": 4,
    "language_info": {
      "name": "python",
      "version": "3.9.5",
      "mimetype": "text/x-python",
      "codemirror_mode": {
        "name": "ipython",
        "version": 3
      },
      "pygments_lexer": "ipython3",
      "nbconvert_exporter": "python",
      "file_extension": ".py"
    },
    "kernelspec": {
      "name": "python3",
      "display_name": "Python 3.9.5 64-bit ('base': conda)"
    },
    "interpreter": {
      "hash": "d0304816b5591ea11e8165d623acf36e6e106eaa16da4abfa591515c22a03f7d"
    },
    "colab": {
      "name": "Querring Wikipedia.ipynb",
      "provenance": [],
      "collapsed_sections": []
    }
  },
  "cells": [
    {
      "cell_type": "code",
      "metadata": {
        "colab": {
          "base_uri": "https://localhost:8080/"
        },
        "id": "sDD8RnKtYdP6",
        "outputId": "964776d1-baff-4f21-97e1-aeccf19e4cb8"
      },
      "source": [
        "pip install SPARQLWrapper"
      ],
      "execution_count": 16,
      "outputs": [
        {
          "output_type": "stream",
          "name": "stdout",
          "text": [
            "Requirement already satisfied: SPARQLWrapper in /usr/local/lib/python3.7/dist-packages (1.8.5)\n",
            "Requirement already satisfied: rdflib>=4.0 in /usr/local/lib/python3.7/dist-packages (from SPARQLWrapper) (6.0.1)\n",
            "Requirement already satisfied: pyparsing in /usr/local/lib/python3.7/dist-packages (from rdflib>=4.0->SPARQLWrapper) (2.4.7)\n",
            "Requirement already satisfied: isodate in /usr/local/lib/python3.7/dist-packages (from rdflib>=4.0->SPARQLWrapper) (0.6.0)\n",
            "Requirement already satisfied: setuptools in /usr/local/lib/python3.7/dist-packages (from rdflib>=4.0->SPARQLWrapper) (57.4.0)\n",
            "Requirement already satisfied: six in /usr/local/lib/python3.7/dist-packages (from isodate->rdflib>=4.0->SPARQLWrapper) (1.15.0)\n"
          ]
        }
      ]
    },
    {
      "cell_type": "code",
      "metadata": {
        "id": "FfmSMowuXbmI"
      },
      "source": [
        "import sys\n",
        "from SPARQLWrapper import SPARQLWrapper, JSON\n",
        "from matplotlib import pyplot as plt\n",
        "import pandas as pd\n",
        "import seaborn as sb"
      ],
      "execution_count": 21,
      "outputs": []
    },
    {
      "cell_type": "markdown",
      "metadata": {
        "id": "s9A6qRSeHzzm"
      },
      "source": [
        "**Getting all the European countries along with there population**"
      ]
    },
    {
      "cell_type": "code",
      "metadata": {
        "id": "iyhzk4QzXbmQ"
      },
      "source": [
        "endpoint_url = \"https://query.wikidata.org/sparql\"\n",
        "\n",
        "query = \"\"\"SELECT \n",
        "  ?countryLabel ?population \n",
        "WHERE {\n",
        "  ?country wdt:P463 wd:Q458.\n",
        "  ?country wdt:P1082 ?population.\n",
        "  \n",
        "  SERVICE wikibase:label { bd:serviceParam wikibase:language \"en\". }\n",
        "}\"\"\"\n",
        "\n",
        "\n",
        "def get_results(endpoint_url, query):\n",
        "    user_agent = \"WDQS-example Python/%s.%s\" % (sys.version_info[0], sys.version_info[1])\n",
        "    sparql = SPARQLWrapper(endpoint_url, agent=user_agent)\n",
        "    sparql.setQuery(query)\n",
        "    sparql.setReturnFormat(JSON)\n",
        "    return sparql.query().convert()\n",
        "\n",
        "\n",
        "results = get_results(endpoint_url, query)\n",
        "\n",
        "\n",
        "def countries(results):\n",
        "    country = []\n",
        "    for result in results[\"results\"][\"bindings\"]:\n",
        "        country.append(result['countryLabel']['value'])\n",
        "    return list(country)\n",
        "\n",
        "def populations(results):\n",
        "    population = []\n",
        "    for result in results[\"results\"][\"bindings\"]:\n",
        "        population.append(int(result['population']['value']))\n",
        "    return list(population)"
      ],
      "execution_count": 22,
      "outputs": []
    },
    {
      "cell_type": "code",
      "metadata": {
        "colab": {
          "base_uri": "https://localhost:8080/",
          "height": 907
        },
        "id": "uoVQvqCwXbmS",
        "outputId": "9b5fff98-4116-42b2-e1c8-3c312c9be141"
      },
      "source": [
        "c_list = countries(results)\n",
        "p_list = populations(results)\n",
        "data = pd.DataFrame(zip(c_list,p_list), columns=['countries','population'])\n",
        "data.to_csv(\"Data.csv\")\n",
        "data"
      ],
      "execution_count": 23,
      "outputs": [
        {
          "output_type": "execute_result",
          "data": {
            "text/html": [
              "<div>\n",
              "<style scoped>\n",
              "    .dataframe tbody tr th:only-of-type {\n",
              "        vertical-align: middle;\n",
              "    }\n",
              "\n",
              "    .dataframe tbody tr th {\n",
              "        vertical-align: top;\n",
              "    }\n",
              "\n",
              "    .dataframe thead th {\n",
              "        text-align: right;\n",
              "    }\n",
              "</style>\n",
              "<table border=\"1\" class=\"dataframe\">\n",
              "  <thead>\n",
              "    <tr style=\"text-align: right;\">\n",
              "      <th></th>\n",
              "      <th>countries</th>\n",
              "      <th>population</th>\n",
              "    </tr>\n",
              "  </thead>\n",
              "  <tbody>\n",
              "    <tr>\n",
              "      <th>0</th>\n",
              "      <td>Ireland</td>\n",
              "      <td>4761865</td>\n",
              "    </tr>\n",
              "    <tr>\n",
              "      <th>1</th>\n",
              "      <td>Hungary</td>\n",
              "      <td>9769526</td>\n",
              "    </tr>\n",
              "    <tr>\n",
              "      <th>2</th>\n",
              "      <td>Spain</td>\n",
              "      <td>46733038</td>\n",
              "    </tr>\n",
              "    <tr>\n",
              "      <th>3</th>\n",
              "      <td>Belgium</td>\n",
              "      <td>11431406</td>\n",
              "    </tr>\n",
              "    <tr>\n",
              "      <th>4</th>\n",
              "      <td>Luxembourg</td>\n",
              "      <td>626108</td>\n",
              "    </tr>\n",
              "    <tr>\n",
              "      <th>5</th>\n",
              "      <td>Finland</td>\n",
              "      <td>5501043</td>\n",
              "    </tr>\n",
              "    <tr>\n",
              "      <th>6</th>\n",
              "      <td>Sweden</td>\n",
              "      <td>10409248</td>\n",
              "    </tr>\n",
              "    <tr>\n",
              "      <th>7</th>\n",
              "      <td>Denmark</td>\n",
              "      <td>5827463</td>\n",
              "    </tr>\n",
              "    <tr>\n",
              "      <th>8</th>\n",
              "      <td>Poland</td>\n",
              "      <td>38382576</td>\n",
              "    </tr>\n",
              "    <tr>\n",
              "      <th>9</th>\n",
              "      <td>Lithuania</td>\n",
              "      <td>2790842</td>\n",
              "    </tr>\n",
              "    <tr>\n",
              "      <th>10</th>\n",
              "      <td>Italy</td>\n",
              "      <td>60317000</td>\n",
              "    </tr>\n",
              "    <tr>\n",
              "      <th>11</th>\n",
              "      <td>Austria</td>\n",
              "      <td>8809212</td>\n",
              "    </tr>\n",
              "    <tr>\n",
              "      <th>12</th>\n",
              "      <td>Greece</td>\n",
              "      <td>10760421</td>\n",
              "    </tr>\n",
              "    <tr>\n",
              "      <th>13</th>\n",
              "      <td>Portugal</td>\n",
              "      <td>10347892</td>\n",
              "    </tr>\n",
              "    <tr>\n",
              "      <th>14</th>\n",
              "      <td>France</td>\n",
              "      <td>67063703</td>\n",
              "    </tr>\n",
              "    <tr>\n",
              "      <th>15</th>\n",
              "      <td>United Kingdom</td>\n",
              "      <td>66022273</td>\n",
              "    </tr>\n",
              "    <tr>\n",
              "      <th>16</th>\n",
              "      <td>Germany</td>\n",
              "      <td>83149300</td>\n",
              "    </tr>\n",
              "    <tr>\n",
              "      <th>17</th>\n",
              "      <td>Estonia</td>\n",
              "      <td>1324820</td>\n",
              "    </tr>\n",
              "    <tr>\n",
              "      <th>18</th>\n",
              "      <td>Latvia</td>\n",
              "      <td>1909000</td>\n",
              "    </tr>\n",
              "    <tr>\n",
              "      <th>19</th>\n",
              "      <td>Czech Republic</td>\n",
              "      <td>10701777</td>\n",
              "    </tr>\n",
              "    <tr>\n",
              "      <th>20</th>\n",
              "      <td>Slovakia</td>\n",
              "      <td>5397036</td>\n",
              "    </tr>\n",
              "    <tr>\n",
              "      <th>21</th>\n",
              "      <td>Slovenia</td>\n",
              "      <td>2066880</td>\n",
              "    </tr>\n",
              "    <tr>\n",
              "      <th>22</th>\n",
              "      <td>Romania</td>\n",
              "      <td>19586539</td>\n",
              "    </tr>\n",
              "    <tr>\n",
              "      <th>23</th>\n",
              "      <td>Bulgaria</td>\n",
              "      <td>7000039</td>\n",
              "    </tr>\n",
              "    <tr>\n",
              "      <th>24</th>\n",
              "      <td>Croatia</td>\n",
              "      <td>4105493</td>\n",
              "    </tr>\n",
              "    <tr>\n",
              "      <th>25</th>\n",
              "      <td>Cyprus</td>\n",
              "      <td>1141166</td>\n",
              "    </tr>\n",
              "    <tr>\n",
              "      <th>26</th>\n",
              "      <td>Malta</td>\n",
              "      <td>465292</td>\n",
              "    </tr>\n",
              "    <tr>\n",
              "      <th>27</th>\n",
              "      <td>Kingdom of the Netherlands</td>\n",
              "      <td>17100715</td>\n",
              "    </tr>\n",
              "  </tbody>\n",
              "</table>\n",
              "</div>"
            ],
            "text/plain": [
              "                     countries  population\n",
              "0                      Ireland     4761865\n",
              "1                      Hungary     9769526\n",
              "2                        Spain    46733038\n",
              "3                      Belgium    11431406\n",
              "4                   Luxembourg      626108\n",
              "5                      Finland     5501043\n",
              "6                       Sweden    10409248\n",
              "7                      Denmark     5827463\n",
              "8                       Poland    38382576\n",
              "9                    Lithuania     2790842\n",
              "10                       Italy    60317000\n",
              "11                     Austria     8809212\n",
              "12                      Greece    10760421\n",
              "13                    Portugal    10347892\n",
              "14                      France    67063703\n",
              "15              United Kingdom    66022273\n",
              "16                     Germany    83149300\n",
              "17                     Estonia     1324820\n",
              "18                      Latvia     1909000\n",
              "19              Czech Republic    10701777\n",
              "20                    Slovakia     5397036\n",
              "21                    Slovenia     2066880\n",
              "22                     Romania    19586539\n",
              "23                    Bulgaria     7000039\n",
              "24                     Croatia     4105493\n",
              "25                      Cyprus     1141166\n",
              "26                       Malta      465292\n",
              "27  Kingdom of the Netherlands    17100715"
            ]
          },
          "metadata": {},
          "execution_count": 23
        }
      ]
    },
    {
      "cell_type": "markdown",
      "metadata": {
        "id": "cCiJ7PUnH_2V"
      },
      "source": [
        "**Plotting the graph of Population vs Countries**"
      ]
    },
    {
      "cell_type": "code",
      "metadata": {
        "id": "ItNIoLccX0-W",
        "colab": {
          "base_uri": "https://localhost:8080/",
          "height": 810
        },
        "outputId": "eddea13c-f68a-4990-a80a-af244a7b83b7"
      },
      "source": [
        "plt.figure(figsize=(30,10))\n",
        "sb.barplot(c_list,p_list)\n",
        "ax = plt.subplot(1,1,1)\n",
        "ax.set_xticklabels(c_list, rotation = 60)\n",
        "for i, v in enumerate(p_list):\n",
        "     plt.text(i -0.4  , v + 1 , str(v))\n",
        "plt.show()"
      ],
      "execution_count": 11,
      "outputs": [
        {
          "output_type": "stream",
          "name": "stderr",
          "text": [
            "/usr/local/lib/python3.7/dist-packages/seaborn/_decorators.py:43: FutureWarning: Pass the following variables as keyword args: x, y. From version 0.12, the only valid positional argument will be `data`, and passing other arguments without an explicit keyword will result in an error or misinterpretation.\n",
            "  FutureWarning\n",
            "/usr/local/lib/python3.7/dist-packages/ipykernel_launcher.py:4: MatplotlibDeprecationWarning: Adding an axes using the same arguments as a previous axes currently reuses the earlier instance.  In a future version, a new instance will always be created and returned.  Meanwhile, this warning can be suppressed, and the future behavior ensured, by passing a unique label to each axes instance.\n",
            "  after removing the cwd from sys.path.\n"
          ]
        },
        {
          "output_type": "display_data",
          "data": {
            "image/png": "[encoded data removed]",
            "text/plain": [
              "<Figure size 2160x720 with 1 Axes>"
            ]
          },
          "metadata": {
            "needs_background": "light"
          }
        }
      ]
    },
    {
      "cell_type": "markdown",
      "metadata": {
        "id": "5y0ZU0EgIJCw"
      },
      "source": [
        "**Getting Female Mayors**"
      ]
    },
    {
      "cell_type": "code",
      "metadata": {
        "colab": {
          "base_uri": "https://localhost:8080/",
          "height": 263
        },
        "id": "5rAcSCjmFQuf",
        "outputId": "e646b976-92d3-4dc3-f41b-7cf196c74f69"
      },
      "source": [
        "endpoint_url = \"https://query.wikidata.org/sparql\"\n",
        "\n",
        "query = \"\"\"SELECT \n",
        "?capitalLabel ?mayorLabel\n",
        "WHERE {\n",
        "  ?country wdt:P463 wd:Q458.\n",
        "  ?country wdt:P36 ?capital.\n",
        "  ?mayor wdt:P21 wd:Q6581072.\n",
        "  ?capital p:P6 ?statement.\n",
        "  ?statement ps:P6 ?mayor.\n",
        "  FILTER NOT EXISTS { ?statement pq:P582 ?end_date }\n",
        "  SERVICE wikibase:label { \n",
        "    bd:serviceParam wikibase:language \"[AUTO_LANGUAGE],en\". \n",
        "  }\n",
        "}\"\"\"\n",
        "\n",
        "\n",
        "def get_results(endpoint_url, query):\n",
        "    user_agent = \"WDQS-example Python/%s.%s\" % (sys.version_info[0], sys.version_info[1])\n",
        "    # TODO adjust user agent; see https://w.wiki/CX6\n",
        "    sparql = SPARQLWrapper(endpoint_url, agent=user_agent)\n",
        "    sparql.setQuery(query)\n",
        "    sparql.setReturnFormat(JSON)\n",
        "    return sparql.query().convert()\n",
        "\n",
        "\n",
        "results = get_results(endpoint_url, query)\n",
        "capital = []\n",
        "mayor = []\n",
        "for result in results[\"results\"][\"bindings\"]:\n",
        "    capital.append(result['capitalLabel']['value'])\n",
        "    mayor.append(result['mayorLabel']['value'])\n",
        "mayorData = pd.DataFrame(zip(capital,mayor),columns=['Capital','mayor'])\n",
        "mayorData.to_csv(\"Female_Mayors.csv\")\n",
        "mayorData"
      ],
      "execution_count": 19,
      "outputs": [
        {
          "output_type": "execute_result",
          "data": {
            "text/html": [
              "<div>\n",
              "<style scoped>\n",
              "    .dataframe tbody tr th:only-of-type {\n",
              "        vertical-align: middle;\n",
              "    }\n",
              "\n",
              "    .dataframe tbody tr th {\n",
              "        vertical-align: top;\n",
              "    }\n",
              "\n",
              "    .dataframe thead th {\n",
              "        text-align: right;\n",
              "    }\n",
              "</style>\n",
              "<table border=\"1\" class=\"dataframe\">\n",
              "  <thead>\n",
              "    <tr style=\"text-align: right;\">\n",
              "      <th></th>\n",
              "      <th>Capital</th>\n",
              "      <th>mayor</th>\n",
              "    </tr>\n",
              "  </thead>\n",
              "  <tbody>\n",
              "    <tr>\n",
              "      <th>0</th>\n",
              "      <td>Amsterdam</td>\n",
              "      <td>Femke Halsema</td>\n",
              "    </tr>\n",
              "    <tr>\n",
              "      <th>1</th>\n",
              "      <td>Sofia</td>\n",
              "      <td>Yordanka Fandakova</td>\n",
              "    </tr>\n",
              "    <tr>\n",
              "      <th>2</th>\n",
              "      <td>Sofia</td>\n",
              "      <td>Yordanka Fandakova</td>\n",
              "    </tr>\n",
              "    <tr>\n",
              "      <th>3</th>\n",
              "      <td>Luxembourg</td>\n",
              "      <td>Lydie Polfer</td>\n",
              "    </tr>\n",
              "    <tr>\n",
              "      <th>4</th>\n",
              "      <td>Paris</td>\n",
              "      <td>Anne Hidalgo</td>\n",
              "    </tr>\n",
              "    <tr>\n",
              "      <th>5</th>\n",
              "      <td>Stockholm</td>\n",
              "      <td>Karin Wanngård</td>\n",
              "    </tr>\n",
              "    <tr>\n",
              "      <th>6</th>\n",
              "      <td>Rome</td>\n",
              "      <td>Virginia Raggi</td>\n",
              "    </tr>\n",
              "  </tbody>\n",
              "</table>\n",
              "</div>"
            ],
            "text/plain": [
              "      Capital               mayor\n",
              "0   Amsterdam       Femke Halsema\n",
              "1       Sofia  Yordanka Fandakova\n",
              "2       Sofia  Yordanka Fandakova\n",
              "3  Luxembourg        Lydie Polfer\n",
              "4       Paris        Anne Hidalgo\n",
              "5   Stockholm      Karin Wanngård\n",
              "6        Rome      Virginia Raggi"
            ]
          },
          "metadata": {},
          "execution_count": 19
        }
      ]
    }
  ]
}